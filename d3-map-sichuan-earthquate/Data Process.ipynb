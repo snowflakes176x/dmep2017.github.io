{
 "cells": [
  {
   "cell_type": "code",
   "execution_count": 50,
   "metadata": {
    "collapsed": true
   },
   "outputs": [],
   "source": [
    "import matplotlib\n",
    "import seaborn as sns\n",
    "%matplotlib inline"
   ]
  },
  {
   "cell_type": "code",
   "execution_count": 51,
   "metadata": {
    "collapsed": true
   },
   "outputs": [],
   "source": [
    "import json"
   ]
  },
  {
   "cell_type": "code",
   "execution_count": 52,
   "metadata": {
    "collapsed": true
   },
   "outputs": [],
   "source": [
    "import pandas as pd"
   ]
  },
  {
   "cell_type": "code",
   "execution_count": 53,
   "metadata": {
    "collapsed": true
   },
   "outputs": [],
   "source": [
    "earthquate = json.load(open('earthquake.geo.json'))"
   ]
  },
  {
   "cell_type": "code",
   "execution_count": 54,
   "metadata": {},
   "outputs": [
    {
     "data": {
      "text/plain": [
       "404"
      ]
     },
     "execution_count": 54,
     "metadata": {},
     "output_type": "execute_result"
    }
   ],
   "source": [
    "len(earthquate['features'])"
   ]
  },
  {
   "cell_type": "code",
   "execution_count": 55,
   "metadata": {},
   "outputs": [
    {
     "data": {
      "text/plain": [
       "{'geometry': {'coordinates': [103.8585, 33.1993, 9], 'type': 'Point'},\n",
       " 'id': 'us2000a5x1',\n",
       " 'properties': {'alert': 'yellow',\n",
       "  'cdi': 5.4,\n",
       "  'code': '2000a5x1',\n",
       "  'detail': 'https://earthquake.usgs.gov/fdsnws/event/1/query?eventid=us2000a5x1&format=geojson',\n",
       "  'dmin': 11.416,\n",
       "  'felt': 101,\n",
       "  'gap': 22,\n",
       "  'ids': ',us2000a5x1,',\n",
       "  'mag': 6.5,\n",
       "  'magType': 'mww',\n",
       "  'mmi': 7,\n",
       "  'net': 'us',\n",
       "  'nst': None,\n",
       "  'place': '35km WSW of Yongle, China',\n",
       "  'rms': 0.83,\n",
       "  'sig': 705,\n",
       "  'sources': ',us,',\n",
       "  'status': 'reviewed',\n",
       "  'time': 1502198389570,\n",
       "  'title': 'M 6.5 - 35km WSW of Yongle, China',\n",
       "  'tsunami': 0,\n",
       "  'type': 'earthquake',\n",
       "  'types': ',dyfi,general-text,geoserve,losspager,moment-tensor,origin,phase-data,shakemap,',\n",
       "  'tz': 480,\n",
       "  'updated': 1502208206710,\n",
       "  'url': 'https://earthquake.usgs.gov/earthquakes/eventpage/us2000a5x1'},\n",
       " 'type': 'Feature'}"
      ]
     },
     "execution_count": 55,
     "metadata": {},
     "output_type": "execute_result"
    }
   ],
   "source": [
    "earthquate['features'][0]"
   ]
  },
  {
   "cell_type": "code",
   "execution_count": 56,
   "metadata": {},
   "outputs": [],
   "source": [
    "df_earthquake = pd.DataFrame(\n",
    "    [\n",
    "        dict(\n",
    "            list(e['properties'].items())\n",
    "            +\n",
    "            list(e['geometry'].items())\n",
    "        )\n",
    "        for e in earthquate['features']\n",
    "    ])"
   ]
  },
  {
   "cell_type": "code",
   "execution_count": 57,
   "metadata": {},
   "outputs": [],
   "source": [
    "#df_earthquake"
   ]
  },
  {
   "cell_type": "code",
   "execution_count": 58,
   "metadata": {},
   "outputs": [
    {
     "data": {
      "text/plain": [
       "<matplotlib.axes._subplots.AxesSubplot at 0x1121b0dd8>"
      ]
     },
     "execution_count": 58,
     "metadata": {},
     "output_type": "execute_result"
    },
    {
     "data": {
      "image/png": "[encoded data removed]",
      "text/plain": [
       "<matplotlib.figure.Figure at 0x1121b0390>"
      ]
     },
     "metadata": {},
     "output_type": "display_data"
    }
   ],
   "source": [
    "df_earthquake['mag'].hist(bins=20)"
   ]
  },
  {
   "cell_type": "code",
   "execution_count": 59,
   "metadata": {},
   "outputs": [
    {
     "data": {
      "text/plain": [
       "0      1502198389570\n",
       "1      1490572506280\n",
       "2      1485542796360\n",
       "3      1479419156570\n",
       "4      1474564995960\n",
       "5      1474562836160\n",
       "6      1427680055990\n",
       "7      1423256467800\n",
       "8      1421212898830\n",
       "9      1416928748050\n",
       "10     1416646526580\n",
       "11     1412126609420\n",
       "12     1408226879640\n",
       "13     1407054613570\n",
       "14     1402358054980\n",
       "15     1396651235440\n",
       "16     1387170294440\n",
       "17     1385690089070\n",
       "18     1380855673290\n",
       "19     1377908821770\n",
       "20     1377907457750\n",
       "21     1377636293360\n",
       "22     1376265526250\n",
       "23     1376256221310\n",
       "24     1366841430700\n",
       "25     1366535123540\n",
       "26     1366516777540\n",
       "27     1366491223110\n",
       "28     1366428855550\n",
       "29     1366421847920\n",
       "           ...      \n",
       "374    -610878358000\n",
       "375    -610972655000\n",
       "376    -611086106000\n",
       "377    -611305266000\n",
       "378    -611362324000\n",
       "379    -611455113000\n",
       "380    -611466521000\n",
       "381    -611469261000\n",
       "382    -611515075000\n",
       "383    -611519209000\n",
       "384    -611549905000\n",
       "385    -611574626000\n",
       "386    -681756506000\n",
       "387    -719336423000\n",
       "388   -1020419089000\n",
       "389   -1061225654000\n",
       "390   -1062892850000\n",
       "391   -1086701257000\n",
       "392   -1147190967000\n",
       "393   -1148396757000\n",
       "394   -1228449041000\n",
       "395   -1233334710000\n",
       "396   -1239497744000\n",
       "397   -1252128319000\n",
       "398   -1268883143000\n",
       "399   -1413623863000\n",
       "400   -1476098383000\n",
       "401   -1654301151000\n",
       "402   -1926673503000\n",
       "403   -1953179203000\n",
       "Name: time, Length: 404, dtype: int64"
      ]
     },
     "execution_count": 59,
     "metadata": {},
     "output_type": "execute_result"
    }
   ],
   "source": [
    "df_earthquake['time']"
   ]
  },
  {
   "cell_type": "code",
   "execution_count": 60,
   "metadata": {
    "collapsed": true
   },
   "outputs": [],
   "source": [
    "import datetime"
   ]
  },
  {
   "cell_type": "code",
   "execution_count": 61,
   "metadata": {
    "collapsed": true
   },
   "outputs": [],
   "source": [
    "df_earthquake['datetime'] = df_earthquake['time'].apply(lambda t: datetime.datetime.fromtimestamp(t/1000))"
   ]
  },
  {
   "cell_type": "code",
   "execution_count": 62,
   "metadata": {
    "collapsed": true
   },
   "outputs": [],
   "source": [
    "# df_earthquake.set_index('datetime').resample('60m', 'count')['mag'].plot()\n",
    "# https://stackoverflow.com/questions/43206554/typeerror-float-argument-must-be-a-string-or-a-number-not-period"
   ]
  },
  {
   "cell_type": "markdown",
   "metadata": {},
   "source": [
    "Let's draw a time series to see how many earthquakes are there each year.\n",
    "\n",
    "It seems we have more and more earthquakes... (count)"
   ]
  },
  {
   "cell_type": "code",
   "execution_count": 63,
   "metadata": {},
   "outputs": [
    {
     "name": "stderr",
     "output_type": "stream",
     "text": [
      "/Users/hupili/Projects/DEMP2017/dmep2017.github.io/venv/lib/python3.5/site-packages/ipykernel_launcher.py:1: FutureWarning: how in .resample() is deprecated\n",
      "the new syntax is .resample(...).count()\n",
      "  \"\"\"Entry point for launching an IPython kernel.\n"
     ]
    },
    {
     "data": {
      "text/plain": [
       "<matplotlib.axes._subplots.AxesSubplot at 0x112240ac8>"
      ]
     },
     "execution_count": 63,
     "metadata": {},
     "output_type": "execute_result"
    },
    {
     "data": {
      "image/png": "[encoded data removed]",
      "text/plain": [
       "<matplotlib.figure.Figure at 0x1122355c0>"
      ]
     },
     "metadata": {},
     "output_type": "display_data"
    }
   ],
   "source": [
    "r = df_earthquake.set_index('datetime').resample('12m', 'count')['mag'].reset_index()\n",
    "r['datetime_s'] = r['datetime'].apply(lambda d: str(d))\n",
    "r.plot(x='datetime_s', y='mag')"
   ]
  },
  {
   "cell_type": "markdown",
   "metadata": {},
   "source": [
    "So we drill-down the data.\n",
    "\n",
    "We plot year on x-axis and magnitude on y-axis. In this way, we can visualise the distribution of earthquakes.\n",
    "\n",
    "It sees there are not more big ones. The increase in number (count) is mainly due to smaller magnitudes around 5.\n",
    "\n",
    "What is the reason? Is it because the upgrade of monitoring device? Is it because the lack of historical data, so data prior to a certain date is derived rather than recorded?"
   ]
  },
  {
   "cell_type": "code",
   "execution_count": 64,
   "metadata": {},
   "outputs": [
    {
     "data": {
      "text/plain": [
       "<matplotlib.axes._subplots.AxesSubplot at 0x111d68208>"
      ]
     },
     "execution_count": 64,
     "metadata": {},
     "output_type": "execute_result"
    },
    {
     "data": {
      "image/png": "[encoded data removed]",
      "text/plain": [
       "<matplotlib.figure.Figure at 0x1120aa208>"
      ]
     },
     "metadata": {},
     "output_type": "display_data"
    }
   ],
   "source": [
    "df_earthquake['year'] = df_earthquake['datetime'].apply(lambda dt: dt.year)\n",
    "df_earthquake.plot(x='year', y='mag', kind='scatter')"
   ]
  },
  {
   "cell_type": "markdown",
   "metadata": {},
   "source": [
    "There are more story to tell but we just stop here so that you can further explore."
   ]
  },
  {
   "cell_type": "code",
   "execution_count": 101,
   "metadata": {},
   "outputs": [],
   "source": [
    "all_years = []\n",
    "for year in range(1908, 2018):\n",
    "    df_this_year = df_earthquake[df_earthquake['year'] == year]\n",
    "    data = []\n",
    "    for (i, r) in df_this_year.iterrows():\n",
    "        data.append(\n",
    "        {\n",
    "            'mag': r['mag'], \n",
    "            'coordinates': r['coordinates'],\n",
    "            'title': r['title']\n",
    "        })\n",
    "    all_years.append(\n",
    "        {\n",
    "            'year': year,\n",
    "            'data': data\n",
    "        })"
   ]
  },
  {
   "cell_type": "code",
   "execution_count": 93,
   "metadata": {},
   "outputs": [],
   "source": [
    "#type(df_earthquake['coordinates'].ix[0])"
   ]
  },
  {
   "cell_type": "code",
   "execution_count": 104,
   "metadata": {},
   "outputs": [
    {
     "data": {
      "text/plain": [
       "41499"
      ]
     },
     "execution_count": 104,
     "metadata": {},
     "output_type": "execute_result"
    }
   ],
   "source": [
    "open('earthquake-by-year.json', 'w').write(json.dumps(all_years))"
   ]
  }
 ],
 "metadata": {
  "kernelspec": {
   "display_name": "Python 3",
   "language": "python",
   "name": "python3"
  },
  "language_info": {
   "codemirror_mode": {
    "name": "ipython",
    "version": 3
   },
   "file_extension": ".py",
   "mimetype": "text/x-python",
   "name": "python",
   "nbconvert_exporter": "python",
   "pygments_lexer": "ipython3",
   "version": "3.5.1"
  }
 },
 "nbformat": 4,
 "nbformat_minor": 2
}
